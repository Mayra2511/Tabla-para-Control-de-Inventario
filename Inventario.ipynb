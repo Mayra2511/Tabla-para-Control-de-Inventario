{
  "nbformat": 4,
  "nbformat_minor": 0,
  "metadata": {
    "colab": {
      "provenance": [],
      "authorship_tag": "ABX9TyMBPNnpo21WMl2/AHxB8Nqx",
      "include_colab_link": true
    },
    "kernelspec": {
      "name": "python3",
      "display_name": "Python 3"
    },
    "language_info": {
      "name": "python"
    }
  },
  "cells": [
    {
      "cell_type": "markdown",
      "metadata": {
        "id": "view-in-github",
        "colab_type": "text"
      },
      "source": [
        "<a href=\"https://colab.research.google.com/github/Mayra2511/Tabla-para-Control-de-Inventario/blob/main/Inventario.ipynb\" target=\"_parent\"><img src=\"https://colab.research.google.com/assets/colab-badge.svg\" alt=\"Open In Colab\"/></a>"
      ]
    },
    {
      "cell_type": "markdown",
      "source": [
        "# **Dame las historias de usuario** de una tabla control de inventario"
      ],
      "metadata": {
        "id": "RJXiF_nhuTIW"
      }
    },
    {
      "cell_type": "markdown",
      "source": [
        "Claro, aquí tienes algunas historias de usuario para una tabla de control de inventario:\n",
        "\n",
        "1. **Registro de producto**\n",
        "   - Como usuario, quiero poder registrar nuevos productos en la tabla de inventario con información como nombre, descripción, cantidad inicial, precio unitario y categoría.\n",
        "\n",
        "2. **Actualización de información del producto**\n",
        "   - Como usuario, quiero poder actualizar la información de un producto existente en la tabla de inventario, como su nombre, descripción, precio unitario o categoría.\n",
        "\n",
        "3. **Visualización de inventario**\n",
        "   - Como usuario, quiero poder ver una lista de todos los productos en el inventario junto con su información básica, como nombre, cantidad disponible y precio unitario.\n",
        "\n",
        "4. **Búsqueda de productos**\n",
        "   - Como usuario, quiero poder buscar productos en la tabla de inventario utilizando filtros como nombre, categoría o rango de precios.\n",
        "\n",
        "5. **Registro de entradas y salidas de inventario**\n",
        "   - Como usuario, quiero poder registrar las entradas y salidas de productos en el inventario para mantener un registro preciso de los cambios en la cantidad disponible.\n",
        "\n",
        "6. **Generación de informes de inventario**\n",
        "   - Como usuario, quiero poder generar informes periódicos que muestren el estado actual del inventario, incluyendo la cantidad disponible de cada producto y su valor total.\n",
        "\n",
        "7. **Alertas de inventario bajo**\n",
        "   - Como usuario, quiero recibir notificaciones o alertas cuando la cantidad disponible de un producto en el inventario caiga por debajo de un umbral predeterminado, para poder tomar medidas rápidamente.\n",
        "\n",
        "8. **Gestión de proveedores**\n",
        "   - Como usuario, quiero poder asociar productos en el inventario con sus respectivos proveedores y mantener información relevante como contacto, dirección y términos de entrega.\n",
        "\n",
        "¿Hay algún detalle específico que te gustaría añadir o modificar en estas historias de usuario?"
      ],
      "metadata": {
        "id": "T-AjAXRUukYY"
      }
    },
    {
      "cell_type": "markdown",
      "source": [
        "# **Dame los criterios de aceptacion** de estas historias de usuarios"
      ],
      "metadata": {
        "id": "zhrRy1PbxW5u"
      }
    },
    {
      "cell_type": "markdown",
      "source": [
        "Claro, aquí están algunos criterios de aceptación para las historias de usuario que te proporcioné:\n",
        "\n",
        "1. **Registro de producto**\n",
        "   - Se puede agregar un nuevo producto con éxito cuando se completan todos los campos requeridos: nombre, descripción, cantidad inicial, precio unitario y categoría.\n",
        "   - La tabla de inventario refleja correctamente la información del nuevo producto registrado.\n",
        "\n",
        "2. **Actualización de información del producto**\n",
        "   - Se puede actualizar la información de un producto existente con éxito cuando se modifican los campos deseados: nombre, descripción, precio unitario o categoría.\n",
        "   - Los cambios se reflejan correctamente en la tabla de inventario.\n",
        "\n",
        "3. **Visualización de inventario**\n",
        "   - Al acceder a la lista de inventario, se muestra correctamente la información básica de todos los productos: nombre, cantidad disponible y precio unitario.\n",
        "   - La lista es fácilmente legible y se puede ordenar o filtrar según sea necesario.\n",
        "\n",
        "4. **Búsqueda de productos**\n",
        "   - La función de búsqueda permite encontrar productos utilizando filtros como nombre, categoría o rango de precios de manera precisa.\n",
        "   - Los resultados de la búsqueda muestran todos los productos que cumplen con los criterios seleccionados.\n",
        "\n",
        "5. **Registro de entradas y salidas de inventario**\n",
        "   - Se pueden registrar entradas y salidas de productos con éxito, actualizando la cantidad disponible en consecuencia.\n",
        "   - El historial de movimientos de inventario es preciso y se puede rastrear fácilmente.\n",
        "\n",
        "6. **Generación de informes de inventario**\n",
        "   - Los informes generados muestran de manera clara y detallada el estado actual del inventario, incluyendo la cantidad disponible de cada producto y su valor total.\n",
        "   - Los informes son exportables en formatos como PDF o Excel según sea necesario.\n",
        "\n",
        "7. **Alertas de inventario bajo**\n",
        "   - Se envían notificaciones o alertas cuando la cantidad disponible de un producto cae por debajo del umbral predeterminado.\n",
        "   - Las alertas son visibles y proporcionan información útil para tomar medidas correctivas.\n",
        "\n",
        "8. **Gestión de proveedores**\n",
        "   - Se pueden asociar productos con sus proveedores y mantener información relevante como contacto, dirección y términos de entrega.\n",
        "   - La información de proveedores se muestra de manera clara y se puede actualizar según sea necesario.\n",
        "\n",
        "Estos criterios de aceptación aseguran que cada historia de usuario cumpla con los requisitos funcionales y de calidad esperados para el sistema de control de inventario."
      ],
      "metadata": {
        "id": "z9Artr_Dw39p"
      }
    },
    {
      "cell_type": "markdown",
      "source": [
        "# **Dame los criterios de aceptación de las historias de usuarios dado cuando entonces**"
      ],
      "metadata": {
        "id": "9_M5rwrexn0m"
      }
    },
    {
      "cell_type": "markdown",
      "source": [
        "Claro, aquí tienes los criterios de aceptación para las historias de usuario utilizando la estructura \"Dado, Cuando, Entonces\":\n",
        "\n",
        "1. **Registro de producto**\n",
        "   - Dado que estoy en la interfaz de registro de productos,\n",
        "     Cuando ingreso todos los campos requeridos correctamente y presiono el botón \"Guardar\",\n",
        "     Entonces el nuevo producto se registra en la tabla de inventario y se muestra en la lista de productos.\n",
        "\n",
        "2. **Actualización de información del producto**\n",
        "   - Dado que estoy en la página de detalles de un producto existente,\n",
        "     Cuando modifico algún campo de información y guardo los cambios,\n",
        "     Entonces la información del producto se actualiza en la tabla de inventario y los cambios son visibles.\n",
        "\n",
        "3. **Visualización de inventario**\n",
        "   - Dado que accedo a la página de inventario,\n",
        "     Cuando se carga la página,\n",
        "     Entonces puedo ver una lista de todos los productos con su nombre, cantidad disponible y precio unitario.\n",
        "\n",
        "4. **Búsqueda de productos**\n",
        "   - Dado que estoy en la página de búsqueda de productos,\n",
        "     Cuando ingreso un criterio de búsqueda válido y presiono el botón \"Buscar\",\n",
        "     Entonces se muestran los resultados que coinciden con el criterio de búsqueda en la lista de productos.\n",
        "\n",
        "5. **Registro de entradas y salidas de inventario**\n",
        "   - Dado que estoy en la página de registro de movimientos de inventario,\n",
        "     Cuando ingreso una entrada o salida para un producto y confirmo la acción,\n",
        "     Entonces la cantidad disponible del producto se actualiza correctamente en la tabla de inventario.\n",
        "\n",
        "6. **Generación de informes de inventario**\n",
        "   - Dado que estoy en la página de generación de informes de inventario,\n",
        "     Cuando selecciono los parámetros deseados y genero el informe,\n",
        "     Entonces obtengo un informe detallado que muestra la cantidad disponible de cada producto y su valor total.\n",
        "\n",
        "7. **Alertas de inventario bajo**\n",
        "   - Dado que la cantidad disponible de un producto cae por debajo del umbral establecido,\n",
        "     Cuando se activa una alerta,\n",
        "     Entonces recibo una notificación visible que indica el producto y la acción recomendada.\n",
        "\n",
        "8. **Gestión de proveedores**\n",
        "   - Dado que estoy en la página de gestión de proveedores,\n",
        "     Cuando agrego o actualizo la información de un proveedor asociado a un producto,\n",
        "     Entonces la información del proveedor se guarda correctamente y se muestra en la página de detalles del producto.\n",
        "\n",
        "Estos criterios de aceptación son claros y específicos, describiendo el comportamiento esperado del sistema en cada caso de uso de la tabla de control de inventario."
      ],
      "metadata": {
        "id": "7DknY2e5x2Ao"
      }
    },
    {
      "cell_type": "markdown",
      "source": [
        "# **Créame un código en python** de la tabla de control de inventario siguiendo la historia de usuario anterior y sus criterios"
      ],
      "metadata": {
        "id": "w0PTGIKXx4s7"
      }
    },
    {
      "cell_type": "markdown",
      "source": [
        "Claro, puedo proporcionarte un ejemplo básico de cómo implementar una tabla de control de inventario en Python. Este ejemplo se centrará en la funcionalidad de registrar productos, actualizar información del producto, visualizar inventario y buscar productos. Ten en cuenta que este es un ejemplo simplificado y no incluye todas las funcionalidades descritas en las historias de usuario y criterios de aceptación."
      ],
      "metadata": {
        "id": "1x0I1CKSydnS"
      }
    },
    {
      "cell_type": "code",
      "source": [
        "class Producto:\n",
        "    def __init__(self, nombre, descripcion, cantidad, precio, categoria):\n",
        "        self.nombre = nombre\n",
        "        self.descripcion = descripcion\n",
        "        self.cantidad = cantidad\n",
        "        self.precio = precio\n",
        "        self.categoria = categoria\n",
        "\n",
        "class ControlInventario:\n",
        "    def __init__(self):\n",
        "        self.inventario = []\n",
        "\n",
        "    def agregar_producto(self, producto):\n",
        "        self.inventario.append(producto)\n",
        "\n",
        "    def actualizar_producto(self, nombre_producto, nueva_descripcion, nueva_cantidad, nuevo_precio, nueva_categoria):\n",
        "        for producto in self.inventario:\n",
        "            if producto.nombre == nombre_producto:\n",
        "                producto.descripcion = nueva_descripcion\n",
        "                producto.cantidad = nueva_cantidad\n",
        "                producto.precio = nuevo_precio\n",
        "                producto.categoria = nueva_categoria\n",
        "                break\n",
        "\n",
        "    def visualizar_inventario(self):\n",
        "        for producto in self.inventario:\n",
        "            print(f\"Nombre: {producto.nombre}, Cantidad: {producto.cantidad}, Precio: {producto.precio}, Categoría: {producto.categoria}\")\n",
        "\n",
        "    def buscar_producto(self, nombre_producto):\n",
        "        for producto in self.inventario:\n",
        "            if producto.nombre == nombre_producto:\n",
        "                print(f\"Nombre: {producto.nombre}, Descripción: {producto.descripcion}, Cantidad: {producto.cantidad}, Precio: {producto.precio}, Categoría: {producto.categoria}\")\n",
        "                break\n",
        "\n",
        "# Ejemplo de uso\n",
        "control_inventario = ControlInventario()\n",
        "\n",
        "# Agregar productos\n",
        "producto1 = Producto(\"Producto A\", \"Descripción del Producto A\", 10, 100, \"Categoría 1\")\n",
        "producto2 = Producto(\"Producto B\", \"Descripción del Producto B\", 15, 150, \"Categoría 2\")\n",
        "\n",
        "control_inventario.agregar_producto(producto1)\n",
        "control_inventario.agregar_producto(producto2)\n",
        "\n",
        "# Actualizar producto\n",
        "control_inventario.actualizar_producto(\"Producto A\", \"Nueva Descripción\", 20, 120, \"Categoría 1\")\n",
        "\n",
        "# Visualizar inventario\n",
        "print(\"Inventario completo:\")\n",
        "control_inventario.visualizar_inventario()\n",
        "\n",
        "# Buscar producto\n",
        "print(\"\\nBúsqueda de producto:\")\n",
        "control_inventario.buscar_producto(\"Producto B\")\n"
      ],
      "metadata": {
        "colab": {
          "base_uri": "https://localhost:8080/"
        },
        "id": "MnUn5ssEyhye",
        "outputId": "71f32617-c0af-44a3-da51-682ab58a979b"
      },
      "execution_count": null,
      "outputs": [
        {
          "output_type": "stream",
          "name": "stdout",
          "text": [
            "Inventario completo:\n",
            "Nombre: Producto A, Cantidad: 20, Precio: 120, Categoría: Categoría 1\n",
            "Nombre: Producto B, Cantidad: 15, Precio: 150, Categoría: Categoría 2\n",
            "\n",
            "Búsqueda de producto:\n",
            "Nombre: Producto B, Descripción: Descripción del Producto B, Cantidad: 15, Precio: 150, Categoría: Categoría 2\n"
          ]
        }
      ]
    },
    {
      "cell_type": "markdown",
      "source": [
        "Este código crea una clase Producto para representar cada producto en el inventario y una clase ControlInventario para manejar las operaciones de agregar, actualizar, visualizar y buscar productos en el inventario."
      ],
      "metadata": {
        "id": "zG7Totr7ysbK"
      }
    }
  ]
}